{
 "cells": [
  {
   "cell_type": "code",
   "execution_count": 14,
   "id": "713e0341",
   "metadata": {},
   "outputs": [
    {
     "name": "stdout",
     "output_type": "stream",
     "text": [
      "Enter your first number : 6\n",
      "Enter your second number : 4\n",
      "result is :10.0\n"
     ]
    }
   ],
   "source": [
    "# add is a function to add num1 to num2\n",
    "def add():\n",
    "    num1 = float(input(\"Enter your first number : \"))\n",
    "    num2 = float(input(\"Enter your second number : \"))\n",
    "    print(f\"result is :{num1+num2}\")\n",
    "add()"
   ]
  },
  {
   "cell_type": "code",
   "execution_count": 16,
   "id": "95f0718e",
   "metadata": {},
   "outputs": [
    {
     "name": "stdout",
     "output_type": "stream",
     "text": [
      "Enter your first number : 10\n",
      "Enter your second number : 4\n",
      "result is :6.0\n"
     ]
    }
   ],
   "source": [
    "# subtract is a function to subtract num2 from num1\n",
    "def subtract():\n",
    "    num1 = float(input(\"Enter your first number : \"))\n",
    "    num2 = float(input(\"Enter your second number : \"))\n",
    "    print(f\"result is :{num1-num2}\")\n",
    "subtract()"
   ]
  },
  {
   "cell_type": "code",
   "execution_count": 17,
   "id": "96d2c0e9",
   "metadata": {},
   "outputs": [
    {
     "name": "stdout",
     "output_type": "stream",
     "text": [
      "Enter your first number : 10\n",
      "Enter your second number : 4\n",
      "result is :40.0\n"
     ]
    }
   ],
   "source": [
    "# Multiplication is a function to multiply num1 by num2\n",
    "def multiply():\n",
    "    num1 = float(input(\"Enter your first number : \"))\n",
    "    num2 = float(input(\"Enter your second number : \"))\n",
    "    print(f\"result is :{num1*num2}\")\n",
    "multiply()"
   ]
  },
  {
   "cell_type": "code",
   "execution_count": 20,
   "id": "d6585824",
   "metadata": {},
   "outputs": [
    {
     "name": "stdout",
     "output_type": "stream",
     "text": [
      "Enter your first number : 4\n",
      "Enter your second number : 0\n",
      "The denominator could not be zero\n"
     ]
    }
   ],
   "source": [
    "# Division is a function to divide num1 by num2\n",
    "def divide():\n",
    "    try:\n",
    "        num1 = float(input(\"Enter your first number : \"))\n",
    "        num2 = float(input(\"Enter your second number : \"))\n",
    "        print(f\"result is :{num1/num2}\")\n",
    "    except ZeroDivisionError:\n",
    "        print(\"The denominator could not be zero\")\n",
    "divide()"
   ]
  },
  {
   "cell_type": "code",
   "execution_count": null,
   "id": "ce03bfd6",
   "metadata": {},
   "outputs": [],
   "source": []
  }
 ],
 "metadata": {
  "kernelspec": {
   "display_name": "Python 3 (ipykernel)",
   "language": "python",
   "name": "python3"
  },
  "language_info": {
   "codemirror_mode": {
    "name": "ipython",
    "version": 3
   },
   "file_extension": ".py",
   "mimetype": "text/x-python",
   "name": "python",
   "nbconvert_exporter": "python",
   "pygments_lexer": "ipython3",
   "version": "3.9.13"
  }
 },
 "nbformat": 4,
 "nbformat_minor": 5
}
